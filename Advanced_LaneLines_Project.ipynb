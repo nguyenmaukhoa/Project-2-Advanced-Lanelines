{
 "cells": [
  {
   "cell_type": "code",
   "execution_count": 1,
   "metadata": {},
   "outputs": [],
   "source": [
    "import numpy as np\n",
    "import cv2\n",
    "import matplotlib.pyplot as plt\n",
    "import matplotlib.image as mpimg\n",
    "%matplotlib inline\n",
    "import glob \n",
    "%matplotlib qt\n",
    "from moviepy.editor import VideoFileClip\n",
    "from IPython.display import HTML"
   ]
  },
  {
   "cell_type": "markdown",
   "metadata": {},
   "source": [
    "# Camera Callibration"
   ]
  },
  {
   "cell_type": "markdown",
   "metadata": {},
   "source": [
    "## Distortion Correction"
   ]
  },
  {
   "cell_type": "code",
   "execution_count": 2,
   "metadata": {},
   "outputs": [],
   "source": [
    "# Read in calibration images\n",
    "images = glob.glob('camera_cal/calibration*.jpg')\n",
    "\n",
    "# Setup object points\n",
    "nx = 9\n",
    "ny = 6\n",
    "\n",
    "# Array to store object points and image points from all images\n",
    "objpoints = [] # 3D points in real world space, undistored image\n",
    "imgpoints = [] # 2D points in image plane, distorted image\n",
    "\n",
    "# Prepare object points\n",
    "objp = np.zeros((nx*ny,3), np.float32)\n",
    "objp[:,:2] = np.mgrid[0:nx, 0:ny].T.reshape(-1,2)\n",
    "\n",
    "# Loop through images and add points\n",
    "for fname in images:\n",
    "    # Read each image\n",
    "    img = cv2.imread(fname)\n",
    "    # Convert to grayscale\n",
    "    gray = cv2.cvtColor(img, cv2.COLOR_BGR2GRAY)\n",
    "\n",
    "    # Find the chessboard corners\n",
    "    ret, corners = cv2.findChessboardCorners(gray, (nx,ny), None)\n",
    "\n",
    "    # If corners are found, add object points, image points\n",
    "    if ret == True:\n",
    "        imgpoints.append(corners)\n",
    "        objpoints.append(objp)"
   ]
  },
  {
   "cell_type": "code",
   "execution_count": 3,
   "metadata": {},
   "outputs": [],
   "source": [
    "# Do camera callibration with object points and image points\n",
    "def cal_undistort(img, objpoints, imgpoints):\n",
    "    ret, mtx, dist, rvecs, tvecs = cv2.calibrateCamera(objpoints, imgpoints, img.shape[1::-1], None, None)\n",
    "    dst = cv2.undistort(img, mtx, dist, None, mtx)\n",
    "    return dst"
   ]
  },
  {
   "cell_type": "markdown",
   "metadata": {},
   "source": [
    "## Test camera callibration"
   ]
  },
  {
   "cell_type": "code",
   "execution_count": 4,
   "metadata": {},
   "outputs": [],
   "source": [
    "# Function to compare original and processed images\n",
    "def image_compare(img_name, src, dst, output_path, cmap):\n",
    "    src = cv2.cvtColor(src, cv2.COLOR_RGB2BGR)\n",
    "    if cmap == None:\n",
    "        dst = cv2.cvtColor(dst, cv2.COLOR_RGB2BGR)\n",
    "    \n",
    "    f, (ax1, ax2) = plt.subplots(1, 2, figsize=(24, 9))\n",
    "    f.tight_layout()\n",
    "    ax1.set_title('Original Image', fontsize=50)\n",
    "    ax1.imshow(src)\n",
    "    ax2.set_title('Processed Image', fontsize=50)\n",
    "    if(cmap == 'gray'):\n",
    "        ax2.imshow(dst, cmap='gray')\n",
    "    else:\n",
    "        ax2.imshow(dst)\n",
    "    plt.subplots_adjust(left=0., right=1, top=0.9, bottom=0.)\n",
    "    plt.savefig(output_path + img_name)"
   ]
  },
  {
   "cell_type": "code",
   "execution_count": 5,
   "metadata": {},
   "outputs": [],
   "source": [
    "# Save test image to output\n",
    "images = glob.glob('test_images/' + '*.jpg')\n",
    "\n",
    "for fname in images:\n",
    "    img = cv2.imread(fname)\n",
    "    undistorted = cal_undistort(img, objpoints, imgpoints)\n",
    "    image_compare(fname[11:], img, undistorted, 'output_images/callibration/', None)"
   ]
  },
  {
   "cell_type": "markdown",
   "metadata": {},
   "source": [
    "# Perspective Transform"
   ]
  },
  {
   "cell_type": "code",
   "execution_count": 6,
   "metadata": {},
   "outputs": [],
   "source": [
    "# Function to transform an image\n",
    "def corners_unwarp(undist):    \n",
    "    # Convert undistorted image \n",
    "    gray = cv2.cvtColor(undist, cv2.COLOR_BGR2GRAY)\n",
    "\n",
    "    # Get image size\n",
    "    img_size = (gray.shape[1], gray.shape[0])\n",
    "\n",
    "    # Choose offet to calculate for destination image\n",
    "    offset = 100 #\n",
    "    \n",
    "    # Get the 4 points in the source image\n",
    "    src = np.float32([[585, 455], \n",
    "                       [705, 455], \n",
    "                       [1130, 720], \n",
    "                       [190, 720]])\n",
    "    \n",
    "    # Calculate destination points\n",
    "    dst = np.float32([[offset, 0],\n",
    "                     [img_size[0] - offset, 0],\n",
    "                     [img_size[0] - offset, img_size[1]],\n",
    "                     [offset, img_size[1]]])\n",
    "    \n",
    "    # Get the perspective transform matrix\n",
    "    M = cv2.getPerspectiveTransform(src, dst)\n",
    "\n",
    "    # Get the inverse perspective transform matrix\n",
    "    Minv = cv2.getPerspectiveTransform(dst, src)\n",
    "    \n",
    "    # Warp the image \n",
    "    warped = cv2.warpPerspective(undist, M, img_size, flags=cv2.INTER_LINEAR)\n",
    "    \n",
    "    return warped, M, Minv"
   ]
  },
  {
   "cell_type": "markdown",
   "metadata": {},
   "source": [
    "## Test Perspective Transform"
   ]
  },
  {
   "cell_type": "code",
   "execution_count": 7,
   "metadata": {},
   "outputs": [],
   "source": [
    "# Save test image to output\n",
    "images = glob.glob('test_images/' + '*.jpg')\n",
    "\n",
    "for fname in images:\n",
    "    img = cv2.imread(fname)\n",
    "    undistorted = cal_undistort(img, objpoints, imgpoints)\n",
    "    top_down, perspective_M, perspective_Minv= corners_unwarp(undistorted)\n",
    "    image_compare(fname[12:], img, top_down, 'output_images/perspective_transform/', None)"
   ]
  },
  {
   "cell_type": "markdown",
   "metadata": {},
   "source": [
    "# Color and Gradient"
   ]
  },
  {
   "cell_type": "markdown",
   "metadata": {},
   "source": [
    "## Combine Gradient and Color Threshold Techniques"
   ]
  },
  {
   "cell_type": "code",
   "execution_count": 8,
   "metadata": {},
   "outputs": [],
   "source": [
    "# Define a function that computes sobel absolute\n",
    "def abs_sobel_thresh(orient, sobelx, sobely, thresh=(0, 255)):\n",
    "    # Take the absolute value of the derivative or gradient\n",
    "    if orient == 'x':\n",
    "        abs_sobel = np.absolute(sobelx)\n",
    "    if orient == 'y':\n",
    "        abs_sobel = np.absolute(sobely)\n",
    "        \n",
    "    # Scale to 8-bit (0 - 255) then convert to type = np.uint8\n",
    "    scaled_sobel = np.uint8(255*abs_sobel/np.max(abs_sobel))\n",
    "    \n",
    "    # Create a mask of 1's where the scaled gradient magnitude is > thresh_min and < thresh_max\n",
    "    grad_binary = np.zeros_like(scaled_sobel)\n",
    "    grad_binary[(scaled_sobel >= thresh[0]) & (scaled_sobel <= thresh[1])] = 1\n",
    "\n",
    "    return grad_binary\n",
    "\n",
    "# Define a function that computes the magnitude of the gradient\n",
    "def mag_thresh(sobelx, sobely, mag_thresh=(0, 255)):\n",
    "    # Calculate the gradient magnitude\n",
    "    gradmag = np.sqrt(sobelx**2 + sobely**2)\n",
    "    \n",
    "    # Rescale to 8 bit\n",
    "    scale_factor = np.max(gradmag)/255 \n",
    "    gradmag = (gradmag/scale_factor).astype(np.uint8) \n",
    "    \n",
    "    # Create a binary image of ones where threshold is met, zeros otherwise\n",
    "    mag_binary = np.zeros_like(gradmag)\n",
    "    mag_binary[(gradmag >= mag_thresh[0]) & (gradmag <= mag_thresh[1])] = 1\n",
    "\n",
    "    return mag_binary\n",
    "\n",
    "# Define a function that computesthe direction of the gradient\n",
    "def dir_threshold(sobelx, sobely, thresh=(0, np.pi/2)):\n",
    "    # Take the absolute value of the gradient direction, apply a threshold, and create a binary image result\n",
    "    absgraddir = np.arctan2(np.absolute(sobely), np.absolute(sobelx))\n",
    "    dir_binary =  np.zeros_like(absgraddir)\n",
    "    dir_binary[(absgraddir >= thresh[0]) & (absgraddir <= thresh[1])] = 1\n",
    "\n",
    "    return dir_binary\n",
    "\n",
    "# Define funcion to detect lines based on color threshold\n",
    "def color_threshold(img):\n",
    "    # Convert to HLS color space and separate the S channel\n",
    "    hls = cv2.cvtColor(img, cv2.COLOR_BGR2HLS)\n",
    "    s_channel = hls[:,:,2]\n",
    "    \n",
    "    # Threshold color channel\n",
    "    s_thresh_min = 170\n",
    "    s_thresh_max = 255\n",
    "    s_binary = np.zeros_like(s_channel)\n",
    "    s_binary[(s_channel >= s_thresh_min) & (s_channel <= s_thresh_max)] = 1\n",
    "\n",
    "    return s_binary\n",
    "\n",
    "# Combine all methods\n",
    "def gradient_color_combined(img, sobel_kernel = 3):\n",
    "    # Convert to grayscale\n",
    "    gray = cv2.cvtColor(img, cv2.COLOR_BGR2GRAY)\n",
    "\n",
    "    # Take both Sobel x and y gradients\n",
    "    sobelx = cv2.Sobel(gray, cv2.CV_64F, 1, 0, ksize=sobel_kernel)\n",
    "    sobely = cv2.Sobel(gray, cv2.CV_64F, 0, 1, ksize=sobel_kernel)\n",
    "    \n",
    "    # Call defined functions for each type of threshold\n",
    "    gradx = abs_sobel_thresh('x', sobelx, sobely, thresh=(20, 100))\n",
    "    grady = abs_sobel_thresh('y', sobelx, sobely, thresh=(20, 100))\n",
    "    mag_binary = mag_thresh(sobelx, sobely, mag_thresh=(30, 100))\n",
    "    dir_binary = dir_threshold(sobelx, sobely, thresh=(0.7, 1.3))\n",
    "\n",
    "    # Combine gradient\n",
    "    gradient_binary = np.zeros_like(dir_binary)\n",
    "    gradient_binary[((gradx == 1) & (grady == 1)) | ((mag_binary == 1) & (dir_binary == 1))] = 1\n",
    "    \n",
    "    # Get color threshold result\n",
    "    color_binary = color_threshold(img)\n",
    "    \n",
    "    # Combine the two binary thresholds\n",
    "    combined = np.zeros_like(gradient_binary)\n",
    "    combined[(color_binary == 1) | (gradient_binary == 1)] = 1\n",
    "    \n",
    "    return combined"
   ]
  },
  {
   "cell_type": "markdown",
   "metadata": {},
   "source": [
    "## Test Gradient Color Combined"
   ]
  },
  {
   "cell_type": "code",
   "execution_count": 9,
   "metadata": {},
   "outputs": [],
   "source": [
    "# Save test image to output\n",
    "images = glob.glob('test_images/' + '*.jpg')\n",
    "\n",
    "for fname in images:\n",
    "    img = cv2.imread(fname)\n",
    "    undistorted = cal_undistort(img, objpoints, imgpoints)\n",
    "    combined = gradient_color_combined(undistorted, sobel_kernel=15)\n",
    "    image_compare(fname[12:], img, combined, 'output_images/color_and_gradient/', 'gray')"
   ]
  },
  {
   "cell_type": "markdown",
   "metadata": {},
   "source": [
    "# Finding Lanes"
   ]
  },
  {
   "cell_type": "code",
   "execution_count": 10,
   "metadata": {},
   "outputs": [],
   "source": [
    "# Function to find lanelines\n",
    "def find_lane_pixels(binary_warped):\n",
    "    # Take histogram of the bottom half of the image\n",
    "    histogram = np.sum(binary_warped[binary_warped.shape[0]//2:,:], axis=0)\n",
    "    \n",
    "    # Find the peaks of the left and right halves of the histogram\n",
    "    # These will be starting point for the left and right lines\n",
    "    midpoint = np.int(histogram.shape[0]//2)\n",
    "    leftx_base = np.argmax(histogram[:midpoint])\n",
    "    rightx_base = midpoint + np.argmax(histogram[midpoint:])\n",
    "    \n",
    "    # Number of sliding windows\n",
    "    nwindows = 9\n",
    "    \n",
    "    # Window width\n",
    "    margin = 100\n",
    "    \n",
    "    # Minimum pixels found to recenter window\n",
    "    minpix = 50\n",
    "    \n",
    "    # Window height\n",
    "    window_height = np.int(binary_warped.shape[0]//nwindows)\n",
    "    \n",
    "    # Identify the x and y positions of all nonzero pixels in the image\n",
    "    nonzero = binary_warped.nonzero()\n",
    "    nonzeroy = np.array(nonzero[0])\n",
    "    nonzerox = np.array(nonzero[1])\n",
    "    \n",
    "    # Current window position\n",
    "    leftx_current = leftx_base\n",
    "    rightx_current = rightx_base\n",
    "    \n",
    "    # Create empty list to receive left and right lane pixel indices\n",
    "    left_lane_inds = []\n",
    "    right_lane_inds = []\n",
    "    \n",
    "    # Step through the window one by one\n",
    "    for window in range(nwindows):\n",
    "        # Identify window boundaries\n",
    "        win_y_low = binary_warped.shape[0] - (window+1)*window_height\n",
    "        win_y_high = binary_warped.shape[0] - (window)*window_height\n",
    "        \n",
    "        win_xleft_low = leftx_current - margin\n",
    "        win_xleft_high = leftx_current + margin\n",
    "        win_xright_low = rightx_current - margin\n",
    "        win_xright_high = rightx_current + margin\n",
    "        \n",
    "#         # Draw the windows on the visualization image\n",
    "#         cv2.rectangle(out_img,(win_xleft_low,win_y_low),\n",
    "#         (win_xleft_high,win_y_high),(0,255,0), 2) \n",
    "#         cv2.rectangle(out_img,(win_xright_low,win_y_low),\n",
    "#         (win_xright_high,win_y_high),(0,255,0), 2) \n",
    "        \n",
    "        # Identify the nonzero pixels in x and y within the window\n",
    "        good_left_inds = ((nonzeroy >= win_y_low) & (nonzeroy <= win_y_high) & (nonzerox >= win_xleft_low) & (nonzerox <= win_xleft_high)).nonzero()[0]\n",
    "        good_right_inds = ((nonzeroy >= win_y_low) & (nonzeroy < win_y_high) & (nonzerox >= win_xright_low) &  (nonzerox < win_xright_high)).nonzero()[0]\n",
    "        \n",
    "        # Append these indices to the lists\n",
    "        left_lane_inds.append(good_left_inds)\n",
    "        right_lane_inds.append(good_right_inds)\n",
    "        \n",
    "        # If pixels > minpix => recenter the next window on their mean position\n",
    "        if len(good_left_inds) > minpix:\n",
    "            leftx_current = np.int(np.mean(nonzerox[good_left_inds]))\n",
    "        if len(good_right_inds) > minpix:        \n",
    "            rightx_current = np.int(np.mean(nonzerox[good_right_inds]))\n",
    "        \n",
    "    # Concatenate the arrays of indices\n",
    "    try:\n",
    "        left_lane_inds = np.concatenate(left_lane_inds)\n",
    "        right_lane_inds = np.concatenate(right_lane_inds)\n",
    "    except ValueError:\n",
    "        # Avoid error if the above is not implemented fully\n",
    "        pass\n",
    "\n",
    "    # Extract left and right line pixel positions\n",
    "    leftx = nonzerox[left_lane_inds]\n",
    "    lefty = nonzeroy[left_lane_inds]\n",
    "    rightx = nonzerox[right_lane_inds]\n",
    "    righty = nonzeroy[right_lane_inds]\n",
    "\n",
    "\n",
    "    return leftx, lefty, rightx, righty"
   ]
  },
  {
   "cell_type": "code",
   "execution_count": 11,
   "metadata": {},
   "outputs": [],
   "source": [
    "def fit_poly(img_shape, leftx, lefty, rightx, righty):\n",
    "    ### TO-DO: Fit a second order polynomial to each with np.polyfit() ###\n",
    "    left_fit = np.polyfit(lefty, leftx, 2)\n",
    "    right_fit = np.polyfit(righty, rightx, 2)\n",
    "    \n",
    "    # Generate x and y values for plotting\n",
    "    ploty = np.linspace(0, img_shape[0]-1, img_shape[0])\n",
    "    \n",
    "    ### TO-DO: Calc both polynomials using ploty, left_fit and right_fit ###\n",
    "    left_fitx = left_fit[0]*ploty**2 + left_fit[1]*ploty + left_fit[2]\n",
    "    right_fitx = right_fit[0]*ploty**2 + right_fit[1]*ploty + right_fit[2]\n",
    "    \n",
    "    return left_fitx, right_fitx, ploty"
   ]
  },
  {
   "cell_type": "markdown",
   "metadata": {},
   "source": [
    "## Test lane detected"
   ]
  },
  {
   "cell_type": "code",
   "execution_count": 26,
   "metadata": {},
   "outputs": [
    {
     "name": "stderr",
     "output_type": "stream",
     "text": [
      "Clipping input data to the valid range for imshow with RGB data ([0..1] for floats or [0..255] for integers).\n"
     ]
    }
   ],
   "source": [
    "# for fname in images:\n",
    "fname = 'test_images/test2.jpg'\n",
    "img = cv2.imread(fname)\n",
    "undist = cal_undistort(img, objpoints, imgpoints)\n",
    "warped, perspective_M, perspective_Minv = corners_unwarp(undist)\n",
    "binary_warped = gradient_color_combined(warped, sobel_kernel=15) \n",
    "\n",
    "# Create output image to vixualize results\n",
    "out_img = np.dstack((binary_warped, binary_warped, binary_warped))\n",
    "leftx, lefty, rightx, righty = find_lane_pixels(binary_warped)    \n",
    "left_fitx, right_fitx, ploty = fit_poly(binary_warped.shape,leftx, lefty, rightx, righty )\n",
    "\n",
    "## Visualization ##\n",
    "# Colors in the left and right lane regions\n",
    "out_img[lefty, leftx] = [255, 0, 0]\n",
    "out_img[righty, rightx] = [0, 0, 255]\n",
    "\n",
    "# Plots the left and right polynomials on the lane lines\n",
    "plt.plot(left_fitx, ploty, color='yellow')\n",
    "plt.plot(right_fitx, ploty, color='yellow')\n",
    "\n",
    "plt.imshow(out_img)\n",
    "plt.savefig('output_images/lane_findings/' + fname[12:])"
   ]
  },
  {
   "cell_type": "code",
   "execution_count": 13,
   "metadata": {},
   "outputs": [],
   "source": [
    "# Search pixels around detected lines\n",
    "def search_around_poly(binary_warped, pre_left_fit, pre_right_fit):\n",
    "    # HYPERPARAMETER\n",
    "    margin = 100\n",
    "\n",
    "    # Grab activated pixels\n",
    "    nonzero = binary_warped.nonzero()\n",
    "    nonzeroy = np.array(nonzero[0])\n",
    "    nonzerox = np.array(nonzero[1])\n",
    "    \n",
    "    # Calculate left_fitx and right_fitx\n",
    "    left_fitx = pre_left_fit[0]*(nonzeroy**2) + pre_left_fit[1]*nonzeroy + pre_left_fit[2]\n",
    "    right_fitx = pre_right_fit[0]*(nonzeroy**2) + pre_right_fit[1]*nonzeroy + pre_right_fit[2]\n",
    "    \n",
    "    ### TO-DO: Set the area of search based on activated x-values ###\n",
    "    left_lane_inds = ((nonzerox > (left_fitx - margin)) & (nonzerox < (left_fitx + margin)))\n",
    "    right_lane_inds = ((nonzerox > (right_fitx - margin)) & (nonzerox < (right_fitx + margin)))\n",
    "    \n",
    "    # Again, extract left and right line pixel positions\n",
    "    leftx = nonzerox[left_lane_inds]\n",
    "    lefty = nonzeroy[left_lane_inds] \n",
    "    rightx = nonzerox[right_lane_inds]\n",
    "    righty = nonzeroy[right_lane_inds]\n",
    "    \n",
    "    return leftx, lefty, rightx, righty"
   ]
  },
  {
   "cell_type": "markdown",
   "metadata": {},
   "source": [
    "## Test Search Around"
   ]
  },
  {
   "cell_type": "code",
   "execution_count": 25,
   "metadata": {},
   "outputs": [
    {
     "name": "stderr",
     "output_type": "stream",
     "text": [
      "Clipping input data to the valid range for imshow with RGB data ([0..1] for floats or [0..255] for integers).\n"
     ]
    }
   ],
   "source": [
    "file_name = 'test_images/test2.jpg'\n",
    "image = cv2.imread(file_name)\n",
    "margin = 100\n",
    "\n",
    "undist = cal_undistort(image, objpoints, imgpoints)\n",
    "warped, perspective_M, perspective_Minv = corners_unwarp(undist)\n",
    "binary_warped = gradient_color_combined(warped, sobel_kernel=15) \n",
    "\n",
    "# Find our lane pixels first\n",
    "leftx, lefty, rightx, righty = find_lane_pixels(binary_warped)\n",
    "\n",
    "# Fit a second order polynomial to each using `np.polyfit`\n",
    "pre_left_fit = np.polyfit(lefty, leftx, 2)\n",
    "pre_right_fit = np.polyfit(righty, rightx, 2)\n",
    "\n",
    "# Fit new polynomials\n",
    "leftx, lefty, rightx, righty = search_around_poly(binary_warped, pre_left_fit, pre_right_fit)\n",
    "left_fitx, right_fitx, ploty = fit_poly(binary_warped.shape, leftx, lefty, rightx, righty)\n",
    "\n",
    "## Visualization ##\n",
    "# Create an image to draw on and an image to show the selection window\n",
    "out_img = np.dstack((binary_warped, binary_warped, binary_warped))*255\n",
    "window_img = np.zeros_like(out_img)\n",
    "\n",
    "# Color in left and right line pixels\n",
    "out_img[lefty, leftx] = [255, 0, 0]\n",
    "out_img[righty, rightx] = [0, 0, 255]\n",
    "\n",
    "# Generate a polygon to illustrate the search window area\n",
    "# And recast the x and y points into usable format for cv2.fillPoly()\n",
    "left_line_window1 = np.array([np.transpose(np.vstack([left_fitx-margin, ploty]))])\n",
    "left_line_window2 = np.array([np.flipud(np.transpose(np.vstack([left_fitx+margin, ploty])))])\n",
    "left_line_pts = np.hstack((left_line_window1, left_line_window2))\n",
    "\n",
    "right_line_window1 = np.array([np.transpose(np.vstack([right_fitx-margin, ploty]))])\n",
    "right_line_window2 = np.array([np.flipud(np.transpose(np.vstack([right_fitx+margin, ploty])))])\n",
    "right_line_pts = np.hstack((right_line_window1, right_line_window2))\n",
    "\n",
    "# Draw the lane onto the warped blank image\n",
    "cv2.fillPoly(window_img, np.int_([left_line_pts]), (0,255, 0))\n",
    "cv2.fillPoly(window_img, np.int_([right_line_pts]), (0,255, 0))\n",
    "lane_area = cv2.addWeighted(out_img, 1, window_img, 0.2, 0)\n",
    "\n",
    "# Plot the polynomial lines onto the image\n",
    "plt.plot(left_fitx, ploty, color='yellow')\n",
    "plt.plot(right_fitx, ploty, color='yellow')\n",
    "## End visualization steps ##\n",
    "    \n",
    "# View your output\n",
    "plt.imshow(lane_area)\n",
    "plt.savefig('output_images/lane_search_around/' + file_name[12:])"
   ]
  },
  {
   "cell_type": "code",
   "execution_count": 15,
   "metadata": {},
   "outputs": [],
   "source": [
    "# Define a class to receive the characteristics of each line detection\n",
    "class Line():\n",
    "    def __init__(self):\n",
    "        # was the line detected in the last iteration?\n",
    "        self.detected = False  \n",
    "        \n",
    "        # x values of the last n fits of the line\n",
    "        self.recent_xfitted = [] \n",
    "        \n",
    "        #average x values of the fitted line over the last n iterations\n",
    "        self.bestx = None     \n",
    "        \n",
    "        #polynomial coefficients averaged over the last n iterations\n",
    "        self.best_fit = None  \n",
    "        \n",
    "        #polynomial coefficients for the most recent fit\n",
    "        self.current_fit = [] #[np.array([False])]  \n",
    "        \n",
    "        #radius of curvature of the line in some units\n",
    "        self.radius_of_curvature = None \n",
    "        \n",
    "        #distance in meters of vehicle center from the line\n",
    "        self.line_base_pos = None \n",
    "        \n",
    "        #difference in fit coefficients between last and new fits\n",
    "        self.diffs = np.array([0,0,0], dtype='float') \n",
    "        \n",
    "        #x values for detected line pixels\n",
    "        self.allx = None  \n",
    "        \n",
    "        #y values for detected line pixels\n",
    "        self.ally = None  "
   ]
  },
  {
   "cell_type": "code",
   "execution_count": 16,
   "metadata": {},
   "outputs": [],
   "source": [
    "# Draw area between lanes\n",
    "def draw_lane_area(image):\n",
    "    # Undistort orginal image\n",
    "    undist = cal_undistort(image, objpoints, imgpoints)\n",
    "    \n",
    "    # Perspetive Transform\n",
    "    warped, perspective_M, Minv = corners_unwarp(undist)\n",
    "    \n",
    "    # Apply gradient and color threshold\n",
    "    warped = gradient_color_combined(warped, sobel_kernel=15)\n",
    "    \n",
    "    # Create an image to draw the lines on\n",
    "    warp_zero = np.zeros_like(warped).astype(np.uint8)\n",
    "    color_warp = np.dstack((warp_zero, warp_zero, warp_zero))\n",
    "    \n",
    "    # Generate x and y values for plotting\n",
    "    ploty = np.linspace(0, warped.shape[0]-1, warped.shape[0])\n",
    "  \n",
    "    try:\n",
    "        left_line.allx, left_line.ally, right_line.allx, right_line.ally = search_around_poly(warped, left_line.best_fit, right_line.best_fit) \n",
    "    except:\n",
    "        left_line.allx, left_line.ally, right_line.allx, right_line.ally = find_lane_pixels(warped)\n",
    "        \n",
    "    left_line.best_fit = np.polyfit(left_line.ally, left_line.allx, 2)\n",
    "    right_line.best_fit = np.polyfit(right_line.ally, right_line.allx, 2)\n",
    "\n",
    "    left_line.bestx = left_line.best_fit[0]*ploty**2 + left_line.best_fit[1]*ploty + left_line.best_fit[2]\n",
    "    right_line.bestx = right_line.best_fit[0]*ploty**2 + right_line.best_fit[1]*ploty + right_line.best_fit[2]\n",
    "    \n",
    "    # Measure curvature\n",
    "    left_line.radius_of_curvature, right_line.radius_of_curvature, pos = measure_curvature_real(ploty)\n",
    "        \n",
    "    # Recast the x and y points into usable format for cv2.fillPoly()\n",
    "    pts_left = np.array([np.transpose(np.vstack([left_line.bestx, ploty]))])\n",
    "    pts_right = np.array([np.flipud(np.transpose(np.vstack([right_line.bestx, ploty])))])\n",
    "    pts = np.hstack((pts_left, pts_right))\n",
    "\n",
    "    # Draw the lane onto the warped blank image\n",
    "    cv2.fillPoly(color_warp, np.int_([pts]), (0,255, 0))\n",
    "    \n",
    "    # Warp the blank back to original image space using inverse perspective matrix (Minv)\n",
    "    newwarp = cv2.warpPerspective(color_warp, Minv, (undist.shape[1], undist.shape[0]), flags=cv2.INTER_LINEAR) \n",
    "    \n",
    "    # Combine the result with the original image\n",
    "    result = cv2.addWeighted(undist, 1, newwarp, 0.2, 0)\n",
    "    cv2.putText(result, 'Curvature = {:.0f} (m)'.format(min(left_line.radius_of_curvature, right_line.radius_of_curvature)), org=(10, 100), \n",
    "                fontFace=cv2.FONT_HERSHEY_SIMPLEX, fontScale=1,color=(255, 255, 255), thickness=2)\n",
    "    cv2.putText(result, 'Vehicle is {:.2f} (m) away from center'.format(pos), org=(10, 140), \n",
    "                fontFace=cv2.FONT_HERSHEY_SIMPLEX, fontScale=1,color=(255, 255, 255), thickness=2)    \n",
    "    return result"
   ]
  },
  {
   "cell_type": "code",
   "execution_count": 17,
   "metadata": {},
   "outputs": [],
   "source": [
    "# Measure curvature\n",
    "def measure_curvature_real(ploty):\n",
    "    ym_per_pix = 30/720 # meters per pixel in y dimension\n",
    "    xm_per_pix = 3.7/700 # meters per pixel in x dimension\n",
    "\n",
    "    # We'll choose the maximum y-value, corresponding to the bottom of the image\n",
    "    y_eval = np.max(ploty)\n",
    "    \n",
    "    ##### TO-DO: Implement the calculation of R_curve (radius of curvature) #####\n",
    "    left_curverad = ((1 + (2*left_line.best_fit[0]*y_eval*ym_per_pix + left_line.best_fit[1])**2)**1.5) / np.absolute(2*left_line.best_fit[0])\n",
    "    right_curverad = ((1 + (2*right_line.best_fit[0]*y_eval*ym_per_pix + right_line.best_fit[1])**2)**1.5) / np.absolute(2*right_line.best_fit[0])\n",
    "\n",
    "    # Calculate distance\n",
    "    xl = np.dot(left_line.best_fit, [700**2, 700, 1])\n",
    "    xr = np.dot(right_line.best_fit, [700**2, 700, 1])\n",
    "    pos = (1280//2 - (xl+xr)//2)*xm_per_pix\n",
    "    \n",
    "    return left_curverad, right_curverad, pos"
   ]
  },
  {
   "cell_type": "markdown",
   "metadata": {},
   "source": [
    "## Test lane drawing"
   ]
  },
  {
   "cell_type": "code",
   "execution_count": 18,
   "metadata": {},
   "outputs": [],
   "source": [
    "# Save the result to the test_images_output directory.\n",
    "images = glob.glob(\"test_images/\" + '*.jpg')\n",
    "left_line = Line()\n",
    "right_line = Line()\n",
    "\n",
    "for fname in images:\n",
    "    # Get initial \n",
    "    img = cv2.imread(fname)\n",
    "    final = draw_lane_area(img)\n",
    "    image_compare('Detected_lanes_'+ fname[12:], img, final, 'output_images/draw_lane_area/', None)"
   ]
  },
  {
   "cell_type": "markdown",
   "metadata": {},
   "source": [
    "## Test project main video"
   ]
  },
  {
   "cell_type": "code",
   "execution_count": 19,
   "metadata": {},
   "outputs": [
    {
     "name": "stderr",
     "output_type": "stream",
     "text": [
      "t:   0%|          | 0/750 [00:00<?, ?it/s, now=None]"
     ]
    },
    {
     "name": "stdout",
     "output_type": "stream",
     "text": [
      "Moviepy - Building video output_videos/project_video_result.mp4.\n",
      "Moviepy - Writing video output_videos/project_video_result.mp4\n",
      "\n"
     ]
    },
    {
     "name": "stderr",
     "output_type": "stream",
     "text": [
      "                                                              \r"
     ]
    },
    {
     "name": "stdout",
     "output_type": "stream",
     "text": [
      "Moviepy - Done !\n",
      "Moviepy - video ready output_videos/project_video_result.mp4\n",
      "CPU times: user 10min 5s, sys: 53 s, total: 10min 58s\n",
      "Wall time: 2min 55s\n"
     ]
    }
   ],
   "source": [
    "output = 'output_videos/project_video_result.mp4'\n",
    "clip1 = VideoFileClip(\"test_videos/project_video.mp4\").subclip(0,30)\n",
    "\n",
    "# Create line instances\n",
    "left_line = Line()\n",
    "right_line = Line()\n",
    "\n",
    "white_clip = clip1.fl_image(draw_lane_area)\n",
    "%time white_clip.write_videofile(output, audio=False)"
   ]
  },
  {
   "cell_type": "code",
   "execution_count": 20,
   "metadata": {},
   "outputs": [
    {
     "data": {
      "text/html": [
       "\n",
       "<video width=\"960\" height=\"540\" controls>\n",
       "  <source src=\"output_videos/project_video_result.mp4\">\n",
       "</video>\n"
      ],
      "text/plain": [
       "<IPython.core.display.HTML object>"
      ]
     },
     "execution_count": 20,
     "metadata": {},
     "output_type": "execute_result"
    }
   ],
   "source": [
    "HTML(\"\"\"\n",
    "<video width=\"960\" height=\"540\" controls>\n",
    "  <source src=\"{0}\">\n",
    "</video>\n",
    "\"\"\".format(output))"
   ]
  },
  {
   "cell_type": "code",
   "execution_count": 21,
   "metadata": {},
   "outputs": [
    {
     "name": "stderr",
     "output_type": "stream",
     "text": [
      "t:   0%|          | 0/900 [00:00<?, ?it/s, now=None]"
     ]
    },
    {
     "name": "stdout",
     "output_type": "stream",
     "text": [
      "Moviepy - Building video output_videos/challenge_video_result.mp4.\n",
      "Moviepy - Writing video output_videos/challenge_video_result.mp4\n",
      "\n"
     ]
    },
    {
     "name": "stderr",
     "output_type": "stream",
     "text": [
      "                                                              "
     ]
    },
    {
     "name": "stdout",
     "output_type": "stream",
     "text": [
      "Moviepy - Done !\n",
      "Moviepy - video ready output_videos/challenge_video_result.mp4\n",
      "CPU times: user 12min 7s, sys: 1min 2s, total: 13min 9s\n",
      "Wall time: 3min 28s\n"
     ]
    },
    {
     "name": "stderr",
     "output_type": "stream",
     "text": [
      "\r"
     ]
    }
   ],
   "source": [
    "output_challange = 'output_videos/challenge_video_result.mp4'\n",
    "clip2 = VideoFileClip(\"test_videos/challenge_video.mp4\").subclip(0,30)\n",
    "# Create line instances\n",
    "left_line = Line()\n",
    "right_line = Line()\n",
    "white_clip_2 = clip2.fl_image(draw_lane_area)\n",
    "%time white_clip_2.write_videofile(output_challange, audio=False)"
   ]
  },
  {
   "cell_type": "code",
   "execution_count": 22,
   "metadata": {},
   "outputs": [
    {
     "data": {
      "text/html": [
       "\n",
       "<video width=\"960\" height=\"540\" controls>\n",
       "  <source src=\"output_videos/challenge_video_result.mp4\">\n",
       "</video>\n"
      ],
      "text/plain": [
       "<IPython.core.display.HTML object>"
      ]
     },
     "execution_count": 22,
     "metadata": {},
     "output_type": "execute_result"
    }
   ],
   "source": [
    "HTML(\"\"\"\n",
    "<video width=\"960\" height=\"540\" controls>\n",
    "  <source src=\"{0}\">\n",
    "</video>\n",
    "\"\"\".format(output_challange))"
   ]
  },
  {
   "cell_type": "code",
   "execution_count": 23,
   "metadata": {},
   "outputs": [
    {
     "name": "stderr",
     "output_type": "stream",
     "text": [
      "t:   0%|          | 0/750 [00:00<?, ?it/s, now=None]"
     ]
    },
    {
     "name": "stdout",
     "output_type": "stream",
     "text": [
      "Moviepy - Building video output_videos/harder_challenge_video_result.mp4.\n",
      "Moviepy - Writing video output_videos/harder_challenge_video_result.mp4\n",
      "\n"
     ]
    },
    {
     "name": "stderr",
     "output_type": "stream",
     "text": [
      "                                                              \r"
     ]
    },
    {
     "name": "stdout",
     "output_type": "stream",
     "text": [
      "Moviepy - Done !\n",
      "Moviepy - video ready output_videos/harder_challenge_video_result.mp4\n",
      "CPU times: user 10min 19s, sys: 54.8 s, total: 11min 14s\n",
      "Wall time: 3min 7s\n"
     ]
    }
   ],
   "source": [
    "output_harder = 'output_videos/harder_challenge_video_result.mp4'\n",
    "clip3 = VideoFileClip(\"test_videos/harder_challenge_video.mp4\").subclip(0,30)\n",
    "left_line = Line()\n",
    "right_line = Line()\n",
    "white_clip_3 = clip3.fl_image(draw_lane_area)\n",
    "%time white_clip_3.write_videofile(output_harder, audio=False)"
   ]
  },
  {
   "cell_type": "code",
   "execution_count": 24,
   "metadata": {},
   "outputs": [
    {
     "data": {
      "text/html": [
       "\n",
       "<video width=\"960\" height=\"540\" controls>\n",
       "  <source src=\"output_videos/harder_challenge_video_result.mp4\">\n",
       "</video>\n"
      ],
      "text/plain": [
       "<IPython.core.display.HTML object>"
      ]
     },
     "execution_count": 24,
     "metadata": {},
     "output_type": "execute_result"
    }
   ],
   "source": [
    "HTML(\"\"\"\n",
    "<video width=\"960\" height=\"540\" controls>\n",
    "  <source src=\"{0}\">\n",
    "</video>\n",
    "\"\"\".format(output_harder))"
   ]
  },
  {
   "cell_type": "code",
   "execution_count": null,
   "metadata": {},
   "outputs": [],
   "source": []
  }
 ],
 "metadata": {
  "kernelspec": {
   "display_name": "Python 3",
   "language": "python",
   "name": "python3"
  },
  "language_info": {
   "codemirror_mode": {
    "name": "ipython",
    "version": 3
   },
   "file_extension": ".py",
   "mimetype": "text/x-python",
   "name": "python",
   "nbconvert_exporter": "python",
   "pygments_lexer": "ipython3",
   "version": "3.8.5"
  }
 },
 "nbformat": 4,
 "nbformat_minor": 4
}
